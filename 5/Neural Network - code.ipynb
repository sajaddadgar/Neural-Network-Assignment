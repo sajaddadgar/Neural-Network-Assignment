{
 "cells": [
  {
   "cell_type": "markdown",
   "metadata": {},
   "source": [
    "**Step 1: Import libraries**"
   ]
  },
  {
   "cell_type": "code",
   "execution_count": 98,
   "metadata": {},
   "outputs": [],
   "source": [
    "# Used for load MNIST dataset and normalize data \n",
    "import tensorflow as tf\n",
    "# Plotting library\n",
    "import matplotlib.pyplot as plt\n",
    "# Scientific and vector computation for python\n",
    "import numpy as np\n",
    "from sklearn import metrics"
   ]
  },
  {
   "cell_type": "markdown",
   "metadata": {},
   "source": [
    "**Step 2: Load data and data cleaning**"
   ]
  },
  {
   "cell_type": "code",
   "execution_count": 99,
   "metadata": {},
   "outputs": [],
   "source": [
    "# load mnist data\n",
    "mnist = tf.keras.datasets.mnist"
   ]
  },
  {
   "cell_type": "code",
   "execution_count": 100,
   "metadata": {},
   "outputs": [],
   "source": [
    "# divide dataset to two seperated dataset: training set and test set \n",
    "(x_train, y_train), (x_test, y_test) = mnist.load_data()"
   ]
  },
  {
   "cell_type": "code",
   "execution_count": 101,
   "metadata": {},
   "outputs": [
    {
     "name": "stdout",
     "output_type": "stream",
     "text": [
      "*training and test set dimension*\n",
      "X_train: (60000, 28, 28) \n",
      "y_train: (60000,)\n",
      "X_test: (10000, 28, 28) \n",
      "y_test: (10000,)\n"
     ]
    }
   ],
   "source": [
    "print('*training and test set dimension*')\n",
    "print('X_train: {0} \\ny_train: {1}'.format(x_train.shape, y_train.shape))\n",
    "print('X_test: {0} \\ny_test: {1}'.format(x_test.shape, y_test.shape))"
   ]
  },
  {
   "cell_type": "code",
   "execution_count": 102,
   "metadata": {},
   "outputs": [],
   "source": [
    "# data normalization\n",
    "x_train = tf.keras.utils.normalize(x_train, axis=1)\n",
    "x_test = tf.keras.utils.normalize(x_test, axis=1)"
   ]
  },
  {
   "cell_type": "markdown",
   "metadata": {},
   "source": [
    "**Step 3: initial first neural network's model:**\n",
    "<br>\n",
    "number of input units: 28*28 = 784\n",
    "<br>\n",
    "number of hidden layers: 1\n",
    "<br>\n",
    "number of hidden units: 2\n",
    "<br>\n",
    "number of output units: 10"
   ]
  },
  {
   "cell_type": "code",
   "execution_count": 103,
   "metadata": {},
   "outputs": [],
   "source": [
    "# load primitive model\n",
    "model_1 = tf.keras.models.Sequential()\n",
    "# flat data from (60000, 28, 28) dimension to (60000, 784) dimension and add to model as input layer\n",
    "model_1.add(tf.keras.layers.Flatten())\n",
    "# first hidden layer with 2 unit and relu activation\n",
    "model_1.add(tf.keras.layers.Dense(2, activation=tf.nn.relu))\n",
    "# output layer with 10 unit softmax activation\n",
    "model_1.add(tf.keras.layers.Dense(10, activation=tf.nn.softmax)) "
   ]
  },
  {
   "cell_type": "markdown",
   "metadata": {},
   "source": [
    "**Step 4: Optimize first model with stochastic gradient descent**"
   ]
  },
  {
   "cell_type": "code",
   "execution_count": 104,
   "metadata": {},
   "outputs": [],
   "source": [
    "# compile model_1 and return loss and accuracy values\n",
    "model_1.compile(optimizer = 'sgd', loss= 'sparse_categorical_crossentropy', metrics=['accuracy'])"
   ]
  },
  {
   "cell_type": "code",
   "execution_count": 105,
   "metadata": {},
   "outputs": [
    {
     "name": "stdout",
     "output_type": "stream",
     "text": [
      "Train on 60000 samples\n",
      "Epoch 1/3\n",
      "60000/60000 [==============================] - 4s 72us/sample - loss: 2.2127 - accuracy: 0.1655\n",
      "Epoch 2/3\n",
      "60000/60000 [==============================] - 4s 66us/sample - loss: 1.8227 - accuracy: 0.3410\n",
      "Epoch 3/3\n",
      "60000/60000 [==============================] - 4s 70us/sample - loss: 1.5510 - accuracy: 0.4565\n"
     ]
    },
    {
     "data": {
      "text/plain": [
       "<tensorflow.python.keras.callbacks.History at 0x161f2d7b7f0>"
      ]
     },
     "execution_count": 105,
     "metadata": {},
     "output_type": "execute_result"
    }
   ],
   "source": [
    "# fitting neural network on training set\n",
    "# neural network are great at fitting, so we have to generalize to prevent overfitting\n",
    "model_1.fit(x_train, y_train, epochs=3) "
   ]
  },
  {
   "cell_type": "markdown",
   "metadata": {},
   "source": [
    "**Step 5: Evaluate**"
   ]
  },
  {
   "cell_type": "code",
   "execution_count": 106,
   "metadata": {},
   "outputs": [
    {
     "name": "stdout",
     "output_type": "stream",
     "text": [
      "10000/10000 [==============================] - 1s 55us/sample - loss: 1.4529 - accuracy: 0.4902\n",
      "loss: 1.452853235435486\n",
      "accuracy:0.490200012922287\n"
     ]
    }
   ],
   "source": [
    "val_loss, val_accuracy = model_1.evaluate(x_test, y_test)\n",
    "print('loss: {0}\\naccuracy:{1}'.format(val_loss, val_accuracy))"
   ]
  },
  {
   "cell_type": "code",
   "execution_count": 107,
   "metadata": {},
   "outputs": [],
   "source": [
    "# get all test prediction\n",
    "prediction_1 = model_1.predict([x_test])"
   ]
  },
  {
   "cell_type": "code",
   "execution_count": 117,
   "metadata": {},
   "outputs": [
    {
     "name": "stdout",
     "output_type": "stream",
     "text": [
      "predicted: 0, actual: 3\n"
     ]
    },
    {
     "data": {
      "text/plain": [
       "<matplotlib.image.AxesImage at 0x161f42246a0>"
      ]
     },
     "execution_count": 117,
     "metadata": {},
     "output_type": "execute_result"
    },
    {
     "data": {
      "image/png": "[encoded data removed]",
      "text/plain": [
       "<Figure size 432x288 with 1 Axes>"
      ]
     },
     "metadata": {
      "needs_background": "light"
     },
     "output_type": "display_data"
    }
   ],
   "source": [
    "# display one test data\n",
    "print('predicted: {0}, actual: {1}'.format(np.argmax(prediction_1[500]), y_test[500]))\n",
    "plt.imshow(x_test[500])"
   ]
  },
  {
   "cell_type": "markdown",
   "metadata": {},
   "source": [
    "***"
   ]
  },
  {
   "cell_type": "markdown",
   "metadata": {},
   "source": [
    "**Step 6: initial second neural network's model:**\n",
    "<br>\n",
    "number of input units: 28*28 = 784\n",
    "<br>\n",
    "number of hidden layers: 2\n",
    "<br>\n",
    "number of hidden units: 10\n",
    "<br>\n",
    "number of output units: 10"
   ]
  },
  {
   "cell_type": "code",
   "execution_count": 119,
   "metadata": {},
   "outputs": [],
   "source": [
    "# load primitive model\n",
    "model_2 = tf.keras.models.Sequential()\n",
    "# flat data from (60000, 28, 28) dimension to (60000, 784) dimension and add to model as input layer\n",
    "model_2.add(tf.keras.layers.Flatten())\n",
    "# first hidden layer with 10 unit and relu activation\n",
    "model_2.add(tf.keras.layers.Dense(10, activation=tf.nn.relu))\n",
    "# second hidden layer with 10 unit and relu activation\n",
    "model_2.add(tf.keras.layers.Dense(10, activation=tf.nn.relu))\n",
    "# output layer with 10 unit softmax activation\n",
    "model_2.add(tf.keras.layers.Dense(10, activation=tf.nn.softmax)) "
   ]
  },
  {
   "cell_type": "markdown",
   "metadata": {},
   "source": [
    "**Step 7: Optimize first model with stochastic gradient descent**"
   ]
  },
  {
   "cell_type": "code",
   "execution_count": 120,
   "metadata": {},
   "outputs": [],
   "source": [
    "# compile model_1 and return loss and accuracy values\n",
    "model_2.compile(optimizer = 'sgd', loss= 'sparse_categorical_crossentropy', metrics=['accuracy'])"
   ]
  },
  {
   "cell_type": "code",
   "execution_count": 121,
   "metadata": {},
   "outputs": [
    {
     "name": "stdout",
     "output_type": "stream",
     "text": [
      "Train on 60000 samples\n",
      "Epoch 1/3\n",
      "60000/60000 [==============================] - 5s 79us/sample - loss: 1.8336 - accuracy: 0.3420\n",
      "Epoch 2/3\n",
      "60000/60000 [==============================] - 5s 82us/sample - loss: 0.9204 - accuracy: 0.7114\n",
      "Epoch 3/3\n",
      "60000/60000 [==============================] - 5s 90us/sample - loss: 0.5940 - accuracy: 0.8215\n"
     ]
    },
    {
     "data": {
      "text/plain": [
       "<tensorflow.python.keras.callbacks.History at 0x161f42a3358>"
      ]
     },
     "execution_count": 121,
     "metadata": {},
     "output_type": "execute_result"
    }
   ],
   "source": [
    "# fitting neural network on training set\n",
    "# neural network are great at fitting, so we have to generalize to prevent overfitting\n",
    "model_2.fit(x_train, y_train, epochs=3) "
   ]
  },
  {
   "cell_type": "markdown",
   "metadata": {},
   "source": [
    "**Step 8: Evaluate**"
   ]
  },
  {
   "cell_type": "code",
   "execution_count": 122,
   "metadata": {},
   "outputs": [
    {
     "name": "stdout",
     "output_type": "stream",
     "text": [
      "10000/10000 [==============================] - 1s 84us/sample - loss: 0.5082 - accuracy: 0.8531\n",
      "loss: 0.5082302479505539\n",
      "accuracy:0.8531000018119812\n"
     ]
    }
   ],
   "source": [
    "val_loss, val_accuracy = model_2.evaluate(x_test, y_test)\n",
    "print('loss: {0}\\naccuracy:{1}'.format(val_loss, val_accuracy))"
   ]
  },
  {
   "cell_type": "code",
   "execution_count": 123,
   "metadata": {},
   "outputs": [],
   "source": [
    "# get all test prediction\n",
    "prediction_2 = model_2.predict([x_test])"
   ]
  },
  {
   "cell_type": "code",
   "execution_count": 124,
   "metadata": {},
   "outputs": [
    {
     "name": "stdout",
     "output_type": "stream",
     "text": [
      "predicted: 3, actual: 3\n"
     ]
    },
    {
     "data": {
      "text/plain": [
       "<matplotlib.image.AxesImage at 0x161f53b97f0>"
      ]
     },
     "execution_count": 124,
     "metadata": {},
     "output_type": "execute_result"
    },
    {
     "data": {
      "image/png": "[encoded data removed]",
      "text/plain": [
       "<Figure size 432x288 with 1 Axes>"
      ]
     },
     "metadata": {
      "needs_background": "light"
     },
     "output_type": "display_data"
    }
   ],
   "source": [
    "# display one test data\n",
    "print('predicted: {0}, actual: {1}'.format(np.argmax(prediction_2[500]), y_test[500]))\n",
    "plt.imshow(x_test[500])"
   ]
  },
  {
   "cell_type": "markdown",
   "metadata": {},
   "source": [
    "***"
   ]
  },
  {
   "cell_type": "markdown",
   "metadata": {},
   "source": [
    "**Step 9: initial second neural network's model:**\n",
    "<br>\n",
    "number of input units: 28*28 = 784\n",
    "<br>\n",
    "number of hidden layers: 2\n",
    "<br>\n",
    "number of hidden units: 128\n",
    "<br>\n",
    "number of output units: 10"
   ]
  },
  {
   "cell_type": "code",
   "execution_count": 125,
   "metadata": {},
   "outputs": [],
   "source": [
    "# load primitive model\n",
    "model_3 = tf.keras.models.Sequential()\n",
    "# flat data from (60000, 28, 28) dimension to (60000, 784) dimension and add to model as input layer\n",
    "model_3.add(tf.keras.layers.Flatten())\n",
    "# first hidden layer with 128 unit and relu activation\n",
    "model_3.add(tf.keras.layers.Dense(128, activation=tf.nn.relu))\n",
    "# second hidden layer with 128 unit and relu activation\n",
    "model_3.add(tf.keras.layers.Dense(128, activation=tf.nn.relu))\n",
    "# output layer with 10 unit softmax activation\n",
    "model_3.add(tf.keras.layers.Dense(10, activation=tf.nn.softmax)) "
   ]
  },
  {
   "cell_type": "markdown",
   "metadata": {},
   "source": [
    "**Step 10: Optimize first model with stochastic gradient descent**"
   ]
  },
  {
   "cell_type": "code",
   "execution_count": 126,
   "metadata": {},
   "outputs": [],
   "source": [
    "# compile model_1 and return loss and accuracy values\n",
    "model_3.compile(optimizer = 'sgd', loss= 'sparse_categorical_crossentropy', metrics=['accuracy'])"
   ]
  },
  {
   "cell_type": "code",
   "execution_count": 127,
   "metadata": {},
   "outputs": [
    {
     "name": "stdout",
     "output_type": "stream",
     "text": [
      "Train on 60000 samples\n",
      "Epoch 1/3\n",
      "60000/60000 [==============================] - 6s 97us/sample - loss: 1.0948 - accuracy: 0.7394\n",
      "Epoch 2/3\n",
      "60000/60000 [==============================] - 6s 93us/sample - loss: 0.3885 - accuracy: 0.8909\n",
      "Epoch 3/3\n",
      "60000/60000 [==============================] - 6s 92us/sample - loss: 0.3164 - accuracy: 0.9094\n"
     ]
    },
    {
     "data": {
      "text/plain": [
       "<tensorflow.python.keras.callbacks.History at 0x161f54246d8>"
      ]
     },
     "execution_count": 127,
     "metadata": {},
     "output_type": "execute_result"
    }
   ],
   "source": [
    "# fitting neural network on training set\n",
    "# neural network are great at fitting, so we have to generalize to prevent overfitting\n",
    "model_3.fit(x_train, y_train, epochs=3) "
   ]
  },
  {
   "cell_type": "markdown",
   "metadata": {},
   "source": [
    "**Step 11: Evaluate**"
   ]
  },
  {
   "cell_type": "code",
   "execution_count": 128,
   "metadata": {},
   "outputs": [
    {
     "name": "stdout",
     "output_type": "stream",
     "text": [
      "10000/10000 [==============================] - 1s 73us/sample - loss: 0.2865 - accuracy: 0.9178\n",
      "loss: 0.2864711926341057\n",
      "accuracy:0.9178000092506409\n"
     ]
    }
   ],
   "source": [
    "val_loss, val_accuracy = model_3.evaluate(x_test, y_test)\n",
    "print('loss: {0}\\naccuracy:{1}'.format(val_loss, val_accuracy))"
   ]
  },
  {
   "cell_type": "code",
   "execution_count": 129,
   "metadata": {},
   "outputs": [],
   "source": [
    "# get all test prediction\n",
    "prediction_3 = model_3.predict([x_test])"
   ]
  },
  {
   "cell_type": "code",
   "execution_count": 131,
   "metadata": {},
   "outputs": [
    {
     "name": "stdout",
     "output_type": "stream",
     "text": [
      "predicted: 3, actual: 3\n"
     ]
    },
    {
     "data": {
      "text/plain": [
       "<matplotlib.image.AxesImage at 0x161f55a07f0>"
      ]
     },
     "execution_count": 131,
     "metadata": {},
     "output_type": "execute_result"
    },
    {
     "data": {
      "image/png": "[encoded data removed]",
      "text/plain": [
       "<Figure size 432x288 with 1 Axes>"
      ]
     },
     "metadata": {
      "needs_background": "light"
     },
     "output_type": "display_data"
    }
   ],
   "source": [
    "# display one test data\n",
    "print('predicted: {0}, actual: {1}'.format(np.argmax(prediction_3[500]), y_test[500]))\n",
    "plt.imshow(x_test[500])"
   ]
  },
  {
   "cell_type": "code",
   "execution_count": null,
   "metadata": {},
   "outputs": [],
   "source": []
  }
 ],
 "metadata": {
  "kernelspec": {
   "display_name": "Python 3",
   "language": "python",
   "name": "python3"
  },
  "language_info": {
   "codemirror_mode": {
    "name": "ipython",
    "version": 3
   },
   "file_extension": ".py",
   "mimetype": "text/x-python",
   "name": "python",
   "nbconvert_exporter": "python",
   "pygments_lexer": "ipython3",
   "version": "3.7.3"
  }
 },
 "nbformat": 4,
 "nbformat_minor": 2
}
